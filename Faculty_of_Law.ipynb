{
  "nbformat": 4,
  "nbformat_minor": 0,
  "metadata": {
    "colab": {
      "provenance": [],
      "authorship_tag": "ABX9TyMuuidlTteLyAXoj6ReJ8G+",
      "include_colab_link": true
    },
    "kernelspec": {
      "name": "python3",
      "display_name": "Python 3"
    },
    "language_info": {
      "name": "python"
    }
  },
  "cells": [
    {
      "cell_type": "markdown",
      "metadata": {
        "id": "view-in-github",
        "colab_type": "text"
      },
      "source": [
        "<a href=\"https://colab.research.google.com/github/fairytale42/MyMajor/blob/main/Faculty_of_Law.ipynb\" target=\"_parent\"><img src=\"https://colab.research.google.com/assets/colab-badge.svg\" alt=\"Open In Colab\"/></a>"
      ]
    },
    {
      "cell_type": "markdown",
      "source": [
        "#🍀🍃🍏 **About the <font color = 'lightgreen'>Faculty of Law**\n",
        "* ## <font color = 'skyblue'>Faculty of Law </font>For more information, [Click here.](https://www.career.go.kr/cnet/front/base/major/FunivMajorView.do?SEQ=203)"
      ],
      "metadata": {
        "id": "3apz1vbitez7"
      }
    },
    {
      "cell_type": "markdown",
      "source": [
        "# MyMajor\n",
        "\n",
        "#🐬❄️ **Faculty of Law**\n",
        "\n",
        "## **The faculty of law aims to train lawyers with practical skills through education faithful to legal theory and practice.**\n",
        "\n",
        "## **1. Law Major**\n",
        "###They are working as lawyers at general companies and various financial institutions, and are entering law school and graduate school and passing national exams\n",
        "\n",
        "([Click here](https://www.hannam.ac.kr/kor/educate/educate_0105_01.html))\n",
        "\n",
        "## **2. Legal Studies Major**\n",
        "###The purpose is to train legal public officials, police officials, and administrative officials through education faithful to legal theory and practice.\n",
        "\n",
        "([Click here](https://www.hannam.ac.kr/kor/educate/educate_0105_02.html))"
      ],
      "metadata": {
        "id": "spMgvrwCvbgd"
      }
    }
  ]
}